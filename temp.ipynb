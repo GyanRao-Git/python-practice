{
 "cells": [
  {
   "cell_type": "code",
   "execution_count": 2,
   "id": "a4c9ce88",
   "metadata": {},
   "outputs": [],
   "source": [
    "num=(1,2,3,4,5,6,7,8)"
   ]
  },
  {
   "cell_type": "code",
   "execution_count": 3,
   "id": "f2cda5ac",
   "metadata": {},
   "outputs": [
    {
     "name": "stdout",
     "output_type": "stream",
     "text": [
      "1 [2, 3, 4, 5, 6] 7 8\n"
     ]
    }
   ],
   "source": [
    "first,*second,third,fourth=num\n",
    "print(first,second,third,fourth)"
   ]
  },
  {
   "cell_type": "code",
   "execution_count": 8,
   "id": "4dee2300",
   "metadata": {},
   "outputs": [
    {
     "name": "stdout",
     "output_type": "stream",
     "text": [
      "1\n",
      "None\n",
      "a\n",
      "<class 'NoneType'>\n",
      "k\n"
     ]
    }
   ],
   "source": [
    "dict={1:\"1\"}\n",
    "print(dict.get(1))\n",
    "print(dict.get(100))\n",
    "print(dict.get(100,'a'))\n",
    "print(type(dict.get(100)))\n",
    "if dict.get(100)==None:\n",
    "     dict[100]=\"k\"\n",
    "print(dict.get(100))\n"
   ]
  },
  {
   "cell_type": "code",
   "execution_count": 9,
   "id": "bffb38f0",
   "metadata": {},
   "outputs": [
    {
     "data": {
      "text/plain": [
       "{1: '1', 100: 'k'}"
      ]
     },
     "execution_count": 9,
     "metadata": {},
     "output_type": "execute_result"
    }
   ],
   "source": [
    "dict"
   ]
  },
  {
   "cell_type": "code",
   "execution_count": 10,
   "id": "c094462e",
   "metadata": {},
   "outputs": [
    {
     "name": "stdout",
     "output_type": "stream",
     "text": [
      "<class 'int'>\n",
      "<class 'str'>\n",
      "<class 'int'>\n",
      "<class 'str'>\n"
     ]
    }
   ],
   "source": [
    "for key,val in dict.items():\n",
    "     print(type(key))\n",
    "     print(type(val))"
   ]
  },
  {
   "cell_type": "code",
   "execution_count": 11,
   "id": "a47683d4",
   "metadata": {},
   "outputs": [
    {
     "name": "stdout",
     "output_type": "stream",
     "text": [
      "{1: 2, 2: 2, 3: 2, 5: 3, 6: 1, 7: 2, 453: 1, 8: 2, 78: 1, 9: 1}\n"
     ]
    }
   ],
   "source": [
    "num=[1,2,1,3,5,6,7,453,7,8,8,5,3,2,5,78,9]\n",
    "\n",
    "dict={}\n",
    "for i in num:\n",
    "     if i in dict:\n",
    "          dict[i]+=1\n",
    "     else:\n",
    "          dict[i]=1\n",
    "print(dict)\n",
    "\n"
   ]
  },
  {
   "cell_type": "code",
   "execution_count": 9,
   "id": "cad345e5",
   "metadata": {},
   "outputs": [
    {
     "name": "stdout",
     "output_type": "stream",
     "text": [
      "__class__\n",
      "__delattr__\n",
      "__dict__\n",
      "__dir__\n",
      "__doc__\n",
      "__eq__\n",
      "__format__\n",
      "__ge__\n",
      "__getattribute__\n",
      "__gt__\n",
      "__hash__\n",
      "__init__\n",
      "__init_subclass__\n",
      "__le__\n",
      "__lt__\n",
      "__module__\n",
      "__ne__\n",
      "__new__\n",
      "__reduce__\n",
      "__reduce_ex__\n",
      "__repr__\n",
      "__setattr__\n",
      "__sizeof__\n",
      "__str__\n",
      "__subclasshook__\n",
      "__weakref__\n"
     ]
    },
    {
     "data": {
      "text/plain": [
       "'<__main__.P object at 0x00000243C27DA2E0>'"
      ]
     },
     "execution_count": 9,
     "metadata": {},
     "output_type": "execute_result"
    }
   ],
   "source": [
    "class P:\n",
    "     pass\n",
    "\n",
    "print(*dir(P),sep=\"\\n\")\n",
    "\n",
    "p=P()\n",
    "p.__str__()\n",
    "\n"
   ]
  },
  {
   "cell_type": "code",
   "execution_count": 13,
   "id": "32d91b02",
   "metadata": {},
   "outputs": [
    {
     "name": "stdout",
     "output_type": "stream",
     "text": [
      "he\n"
     ]
    }
   ],
   "source": [
    "def main(f):\n",
    "     f()\n",
    "\n",
    "@main\n",
    "def hello():\n",
    "     print(\"he\")\n"
   ]
  },
  {
   "cell_type": "code",
   "execution_count": null,
   "id": "c745fe6e",
   "metadata": {},
   "outputs": [],
   "source": [
    "### \n",
    "\n",
    "```\n",
    "\n",
    "```"
   ]
  }
 ],
 "metadata": {
  "kernelspec": {
   "display_name": "my_env",
   "language": "python",
   "name": "python3"
  },
  "language_info": {
   "codemirror_mode": {
    "name": "ipython",
    "version": 3
   },
   "file_extension": ".py",
   "mimetype": "text/x-python",
   "name": "python",
   "nbconvert_exporter": "python",
   "pygments_lexer": "ipython3",
   "version": "3.8.6"
  }
 },
 "nbformat": 4,
 "nbformat_minor": 5
}
