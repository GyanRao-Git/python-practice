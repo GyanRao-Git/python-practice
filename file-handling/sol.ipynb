{
 "cells": [
  {
   "cell_type": "code",
   "execution_count": 2,
   "id": "56071e74",
   "metadata": {},
   "outputs": [
    {
     "name": "stdout",
     "output_type": "stream",
     "text": [
      "Hello World\n"
     ]
    }
   ],
   "source": [
    "with open(\"sample.txt\",\"w\") as file:\n",
    "     file.write(\"Hello World\")\n",
    "\n",
    "with open (\"sample.txt\",\"r\")as file:\n",
    "     content= file.read()\n",
    "     print(content)"
   ]
  },
  {
   "cell_type": "code",
   "execution_count": 10,
   "id": "4e9ca1f0",
   "metadata": {},
   "outputs": [
    {
     "name": "stdout",
     "output_type": "stream",
     "text": [
      "hello\n",
      "this is a new line\n",
      "\n",
      "['hello\\n', 'this is a new line\\n']\n"
     ]
    }
   ],
   "source": [
    "lst=[\"hello\\n\",\"this is a new line\\n\"]\n",
    "with open(\"output.txt\",\"w\") as file:\n",
    "     file.writelines(lst)\n",
    "\n",
    "with open (\"output.txt\",\"r\")as file:\n",
    "     content= file.readlines()\n",
    "     file.seek(0)\n",
    "     r=file.read()\n",
    "     print(r)\n",
    "     print(content)\n"
   ]
  },
  {
   "cell_type": "code",
   "execution_count": null,
   "id": "914e6d8f",
   "metadata": {},
   "outputs": [
    {
     "name": "stdout",
     "output_type": "stream",
     "text": [
      "this is before\n",
      "Hello World\n"
     ]
    }
   ],
   "source": [
    "import shutil\n",
    "\n",
    "with open(\"output.txt\",\"w+\") as before:\n",
    "     before.write(\"this is before\")\n",
    "     before.seek(0)\n",
    "     content=before.read()\n",
    "     print(content)\n",
    "\n",
    "shutil.copyfile(\"sample.txt\",\"output.txt\")\n",
    "\n",
    "with open(\"output.txt\",\"r\") as after:\n",
    "     content=after.read()\n",
    "     print(content)\n"
   ]
  },
  {
   "cell_type": "code",
   "execution_count": 21,
   "id": "d1a1e3f2",
   "metadata": {},
   "outputs": [
    {
     "name": "stdout",
     "output_type": "stream",
     "text": [
      "Hello World\n",
      "\n",
      "Hello World\n",
      "this is line two\n"
     ]
    }
   ],
   "source": [
    "with open(\"sample.txt\",\"w+\") as file:\n",
    "     file.write(\"Hello World\\n\")\n",
    "     file.seek(0)\n",
    "     print(file.read())\n",
    "\n",
    "with open(\"sample.txt\",\"a+\") as file:\n",
    "     file.write(\"this is line two\")\n",
    "     file.seek(0)\n",
    "     print(file.read())"
   ]
  },
  {
   "cell_type": "code",
   "execution_count": 34,
   "id": "0696a1ca",
   "metadata": {},
   "outputs": [
    {
     "name": "stdout",
     "output_type": "stream",
     "text": [
      "Hello World\n",
      "this is line two\n",
      "['Hello', 'World', 'this', 'is', 'line', 'two']\n",
      "6\n"
     ]
    }
   ],
   "source": [
    "with open(\"sample.txt\",\"r\") as file:\n",
    "     content=file.read()\n",
    "     print(content)\n",
    "     content=content.split()\n",
    "     print(content)\n",
    "     print(len(content))"
   ]
  },
  {
   "cell_type": "code",
   "execution_count": 43,
   "id": "b390fd16",
   "metadata": {},
   "outputs": [],
   "source": [
    "def find_and_replace_in_file(old_word, new_word, filename=\"data.txt\"):\n",
    "     try:\n",
    "     # Step 1: Read the file content\n",
    "          with open(filename, \"r\", encoding=\"utf-8\") as file:\n",
    "               content = file.read()\n",
    "\n",
    "          # Step 2: Replace all occurrences of the old word with the new word\n",
    "          updated_content = content.replace(old_word, new_word)\n",
    "\n",
    "          # Step 3: Write the updated content back to the file\n",
    "          with open(filename, \"w\", encoding=\"utf-8\") as file:\n",
    "               file.write(updated_content)\n",
    "\n",
    "          print(f\"Replaced all occurrences of '{old_word}' with '{new_word}' in '{filename}'.\")\n",
    "    \n",
    "     except FileNotFoundError:\n",
    "          print(f\"Error: The file '{filename}' does not exist.\")\n",
    "     except Exception as e:\n",
    "          print(f\"An error occurred: {e}\")\n"
   ]
  },
  {
   "cell_type": "code",
   "execution_count": 38,
   "id": "84608823",
   "metadata": {},
   "outputs": [
    {
     "name": "stdout",
     "output_type": "stream",
     "text": [
      "this is line two\n",
      "Hello World\n"
     ]
    }
   ],
   "source": [
    "with open(\"sample.txt\",\"r\") as file:\n",
    "     lines=file.readlines()\n",
    "     for line in reversed(lines):\n",
    "          print(line.rstrip())"
   ]
  },
  {
   "cell_type": "code",
   "execution_count": 39,
   "id": "8c24f7b8",
   "metadata": {},
   "outputs": [
    {
     "name": "stdout",
     "output_type": "stream",
     "text": [
      "Lines: 2\n",
      "Words: 6\n",
      "Characters: 28\n"
     ]
    }
   ],
   "source": [
    "line_count = 0\n",
    "word_count = 0\n",
    "char_count = 0\n",
    "\n",
    "with open(\"sample.txt\", \"r\") as file:\n",
    "    for line in file:\n",
    "        line_count += 1\n",
    "        word_count += len(line.split())         # split() handles all whitespace\n",
    "        char_count += len(line)                 # includes spaces and newline chars\n",
    "\n",
    "print(f\"Lines: {line_count}\")\n",
    "print(f\"Words: {word_count}\")\n",
    "print(f\"Characters: {char_count}\")\n"
   ]
  },
  {
   "cell_type": "code",
   "execution_count": null,
   "id": "72a660dc",
   "metadata": {},
   "outputs": [],
   "source": []
  }
 ],
 "metadata": {
  "kernelspec": {
   "display_name": "my_env",
   "language": "python",
   "name": "python3"
  },
  "language_info": {
   "codemirror_mode": {
    "name": "ipython",
    "version": 3
   },
   "file_extension": ".py",
   "mimetype": "text/x-python",
   "name": "python",
   "nbconvert_exporter": "python",
   "pygments_lexer": "ipython3",
   "version": "3.8.6"
  }
 },
 "nbformat": 4,
 "nbformat_minor": 5
}
