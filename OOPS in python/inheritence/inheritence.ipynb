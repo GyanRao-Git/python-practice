{
 "cells": [
  {
   "cell_type": "markdown",
   "id": "059df46b",
   "metadata": {},
   "source": [
    "Inheritance is a fundamental concept in object-oriented programming where a class (child/subclass) can inherit the properties and methods of another class (parent/superclass)."
   ]
  },
  {
   "cell_type": "code",
   "execution_count": 3,
   "id": "a154e646",
   "metadata": {},
   "outputs": [],
   "source": [
    "class Car():\n",
    "     def __init__(self,windows,door,engine_type):\n",
    "          self.windows=windows\n",
    "          self.door=door\n",
    "          self.engine_type=engine_type\n",
    "     \n",
    "     def drive(self):\n",
    "          print(f\"The person will drive the {self.engine_type} car\")\n",
    "\n"
   ]
  },
  {
   "cell_type": "code",
   "execution_count": 4,
   "id": "58985d2f",
   "metadata": {},
   "outputs": [
    {
     "name": "stdout",
     "output_type": "stream",
     "text": [
      "The person will drive the petrol car\n"
     ]
    }
   ],
   "source": [
    "car1=Car(4,5,\"petrol\")\n",
    "car1.drive()"
   ]
  },
  {
   "cell_type": "code",
   "execution_count": 5,
   "id": "c2e00768",
   "metadata": {},
   "outputs": [],
   "source": [
    "class Tesla(Car):\n",
    "     def __init__(self, windows, door, engine_type,is_selfdriving):\n",
    "          super().__init__(windows, door, engine_type)\n",
    "          self.is_selfdriving=is_selfdriving\n",
    "\n",
    "     def selfdriving(self):\n",
    "          print(f\"Tesla supports selfdrivig {self.is_selfdriving}\")"
   ]
  },
  {
   "cell_type": "code",
   "execution_count": 7,
   "id": "0b148566",
   "metadata": {},
   "outputs": [
    {
     "name": "stdout",
     "output_type": "stream",
     "text": [
      "Tesla supports selfdrivig True\n",
      "electric\n"
     ]
    }
   ],
   "source": [
    "tesla1=Tesla(4,4,\"electric\",True)\n",
    "\n",
    "tesla1.selfdriving()\n",
    "print(tesla1.engine_type)"
   ]
  },
  {
   "cell_type": "markdown",
   "id": "a6be82e3",
   "metadata": {},
   "source": [
    "Multiple inherience: Class inherits from more than one base class"
   ]
  },
  {
   "cell_type": "code",
   "execution_count": 9,
   "id": "6f9329cc",
   "metadata": {},
   "outputs": [
    {
     "name": "stdout",
     "output_type": "stream",
     "text": [
      "Buddy is eating.\n",
      "Buddy (a Golden Retriever) is happily munching.\n",
      "Pet is playing.\n",
      "Buddy says: Woof!\n",
      "Buddy's owner is Alice.\n"
     ]
    }
   ],
   "source": [
    "class Animal:\n",
    "     def __init__(self, name):\n",
    "          self.name = name\n",
    "\n",
    "     def eat(self):\n",
    "          print(f\"{self.name} is eating.\")\n",
    "\n",
    "class Pet:\n",
    "    def __init__(self, owner):\n",
    "        self.__owner = owner  # private attribute\n",
    "\n",
    "    def play(self):\n",
    "        print(\"Pet is playing.\")\n",
    "\n",
    "    def get_owner(self):\n",
    "        return self.__owner\n",
    "\n",
    "class Dog(Animal, Pet):\n",
    "    def __init__(self, name, owner, breed):\n",
    "        Animal.__init__(self, name)\n",
    "        Pet.__init__(self, owner)\n",
    "        self.breed = breed\n",
    "\n",
    "    def eat(self):\n",
    "        super().eat()  # Call Animal's eat method\n",
    "        print(f\"{self.name} (a {self.breed}) is happily munching.\")\n",
    "\n",
    "    def bark(self):\n",
    "        print(f\"{self.name} says: Woof!\")\n",
    "\n",
    "    def show_owner(self):\n",
    "        print(f\"{self.name}'s owner is {self.get_owner()}.\")\n",
    "\n",
    "\n",
    "d = Dog(\"Buddy\", \"Alice\", \"Golden Retriever\")\n",
    "d.eat()          # Overridden method calls Animal's eat and adds behavior\n",
    "d.play()         # From Pet\n",
    "d.bark()         # Own method\n",
    "d.show_owner()   # Access private attribute via getter\n"
   ]
  },
  {
   "cell_type": "code",
   "execution_count": null,
   "id": "9256d6ef",
   "metadata": {},
   "outputs": [],
   "source": []
  },
  {
   "cell_type": "code",
   "execution_count": null,
   "id": "6f7c6445",
   "metadata": {},
   "outputs": [],
   "source": []
  },
  {
   "cell_type": "code",
   "execution_count": null,
   "id": "07e77bcf",
   "metadata": {},
   "outputs": [],
   "source": []
  }
 ],
 "metadata": {
  "kernelspec": {
   "display_name": "my_env",
   "language": "python",
   "name": "python3"
  },
  "language_info": {
   "codemirror_mode": {
    "name": "ipython",
    "version": 3
   },
   "file_extension": ".py",
   "mimetype": "text/x-python",
   "name": "python",
   "nbconvert_exporter": "python",
   "pygments_lexer": "ipython3",
   "version": "3.8.6"
  }
 },
 "nbformat": 4,
 "nbformat_minor": 5
}
