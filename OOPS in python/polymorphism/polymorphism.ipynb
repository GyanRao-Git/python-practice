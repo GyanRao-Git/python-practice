{
 "cells": [
  {
   "cell_type": "markdown",
   "id": "22495bfe",
   "metadata": {},
   "source": [
    "Polymorphism is a core concept in object-oriented programming that allows objects of different classes to be treated as instances of a common superclass. \n",
    "\n",
    "Achieved through method overriding and interfaces"
   ]
  },
  {
   "cell_type": "markdown",
   "id": "10321112",
   "metadata": {},
   "source": [
    "This flexibility supports code reusability, extensibility, and dynamic method binding, making programs easier to maintain and scale."
   ]
  },
  {
   "cell_type": "code",
   "execution_count": 1,
   "id": "ef6f94aa",
   "metadata": {},
   "outputs": [
    {
     "name": "stdout",
     "output_type": "stream",
     "text": [
      "Area: 78.5\n",
      "Area: 24\n"
     ]
    }
   ],
   "source": [
    "# Base class\n",
    "class Shape:\n",
    "    def area(self):\n",
    "        pass  # Abstract method (no implementation here)\n",
    "\n",
    "# Derived class - Circle\n",
    "class Circle(Shape):\n",
    "    def __init__(self, radius):\n",
    "        self.radius = radius\n",
    "\n",
    "    def area(self):\n",
    "        return 3.14 * self.radius * self.radius\n",
    "\n",
    "# Derived class - Rectangle\n",
    "class Rectangle(Shape):\n",
    "    def __init__(self, width, height):\n",
    "        self.width = width\n",
    "        self.height = height\n",
    "\n",
    "    def area(self):\n",
    "        return self.width * self.height\n",
    "\n",
    "# Using polymorphism\n",
    "shapes = [Circle(5), Rectangle(4, 6)]\n",
    "\n",
    "for shape in shapes:\n",
    "    print(\"Area:\", shape.area())\n"
   ]
  },
  {
   "cell_type": "markdown",
   "id": "23bd46b3",
   "metadata": {},
   "source": [
    "🔷 Abstract Base Class (ABC) – Theory\n",
    "\n",
    "An Abstract Base Class (ABC) is a class that cannot be instantiated on its own and is meant to be inherited by other classes. It defines a common interface (set of methods) that all its subclasses must follow. ABCs are useful when you want to enforce that certain methods must be implemented in every subclass."
   ]
  },
  {
   "cell_type": "code",
   "execution_count": 3,
   "id": "98547e5e",
   "metadata": {},
   "outputs": [
    {
     "name": "stdout",
     "output_type": "stream",
     "text": [
      "Area: 78.5\n",
      "Area: 24\n"
     ]
    }
   ],
   "source": [
    "from abc import ABC, abstractmethod\n",
    "\n",
    "# Abstract Base Class\n",
    "class Shape(ABC):\n",
    "    \n",
    "    @abstractmethod\n",
    "    def area(self):\n",
    "        pass  # Subclasses must override this\n",
    "\n",
    "# Subclass - Circle\n",
    "class Circle(Shape):\n",
    "    def __init__(self, radius):\n",
    "        self.radius = radius\n",
    "\n",
    "    def area(self):\n",
    "        return 3.14 * self.radius * self.radius\n",
    "\n",
    "# Subclass - Rectangle\n",
    "class Rectangle(Shape):\n",
    "    def __init__(self, width, height):\n",
    "        self.width = width\n",
    "        self.height = height\n",
    "\n",
    "    def area(self):\n",
    "        return self.width * self.height\n",
    "\n",
    "# Using polymorphism\n",
    "shapes = [Circle(5), Rectangle(4, 6)]\n",
    "\n",
    "for shape in shapes:\n",
    "    print(\"Area:\", shape.area())\n",
    "\n",
    "\n"
   ]
  },
  {
   "cell_type": "code",
   "execution_count": 5,
   "id": "97bdab26",
   "metadata": {},
   "outputs": [
    {
     "ename": "TypeError",
     "evalue": "Can't instantiate abstract class Shape with abstract methods area",
     "output_type": "error",
     "traceback": [
      "\u001b[1;31m---------------------------------------------------------------------------\u001b[0m",
      "\u001b[1;31mTypeError\u001b[0m                                 Traceback (most recent call last)",
      "Cell \u001b[1;32mIn[5], line 2\u001b[0m\n\u001b[0;32m      1\u001b[0m \u001b[38;5;66;03m#trying to instantiate abstract class\u001b[39;00m\n\u001b[1;32m----> 2\u001b[0m s\u001b[38;5;241m=\u001b[39m\u001b[43mShape\u001b[49m\u001b[43m(\u001b[49m\u001b[43m)\u001b[49m\n\u001b[0;32m      3\u001b[0m s\u001b[38;5;241m.\u001b[39marea()\n",
      "\u001b[1;31mTypeError\u001b[0m: Can't instantiate abstract class Shape with abstract methods area"
     ]
    }
   ],
   "source": [
    "#trying to instantiate abstract class\n",
    "s=Shape()\n",
    "s.area()"
   ]
  },
  {
   "cell_type": "code",
   "execution_count": 6,
   "id": "b07cc17e",
   "metadata": {},
   "outputs": [
    {
     "name": "stdout",
     "output_type": "stream",
     "text": [
      "Car has started\n"
     ]
    }
   ],
   "source": [
    "from abc import ABC, abstractmethod\n",
    "\n",
    "class Vehicle(ABC):\n",
    "     @abstractmethod\n",
    "     def start(self):\n",
    "          pass\n",
    "\n",
    "class Car(Vehicle):\n",
    "     def start(self):\n",
    "          return f\"Car has started\"\n",
    "\n",
    "def printStart(Vehicle):\n",
    "     print (Vehicle.start())\n",
    "\n",
    "mycar=Car()\n",
    "\n",
    "printStart(mycar)"
   ]
  },
  {
   "cell_type": "code",
   "execution_count": null,
   "id": "1dddfa2f",
   "metadata": {},
   "outputs": [],
   "source": []
  }
 ],
 "metadata": {
  "kernelspec": {
   "display_name": "my_env",
   "language": "python",
   "name": "python3"
  },
  "language_info": {
   "codemirror_mode": {
    "name": "ipython",
    "version": 3
   },
   "file_extension": ".py",
   "mimetype": "text/x-python",
   "name": "python",
   "nbconvert_exporter": "python",
   "pygments_lexer": "ipython3",
   "version": "3.8.6"
  }
 },
 "nbformat": 4,
 "nbformat_minor": 5
}
