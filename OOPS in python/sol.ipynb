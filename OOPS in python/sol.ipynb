{
 "cells": [
  {
   "cell_type": "code",
   "execution_count": 6,
   "id": "c58c775e",
   "metadata": {},
   "outputs": [
    {
     "name": "stdout",
     "output_type": "stream",
     "text": [
      "a honda 1999\n"
     ]
    }
   ],
   "source": [
    "#1\n",
    "class Car():\n",
    "     def __init__(self,make,model,year):\n",
    "          self.make=make\n",
    "          self.model=model\n",
    "          self.year=year\n",
    "     \n",
    "     def printAttributes(self):\n",
    "          print(self.make,self.model,self.year)\n",
    "\n",
    "mycar=Car(\"a\",\"honda\",\"1999\")\n",
    "\n",
    "mycar.printAttributes()\n"
   ]
  },
  {
   "cell_type": "code",
   "execution_count": 8,
   "id": "741c8841",
   "metadata": {},
   "outputs": [
    {
     "name": "stdout",
     "output_type": "stream",
     "text": [
      "engine has started\n"
     ]
    }
   ],
   "source": [
    "#2\n",
    "class Car():\n",
    "     def __init__(self,make,model,year):\n",
    "          self.make=make\n",
    "          self.model=model\n",
    "          self.year=year\n",
    "     \n",
    "     def printAttributes(self):\n",
    "          print(self.make,self.model,self.year)\n",
    "     \n",
    "     def start_engine(self):\n",
    "          print(\"engine has started\")\n",
    "\n",
    "mycar=Car(\"a\",\"honda\",\"1999\")\n",
    "\n",
    "mycar.start_engine()\n",
    "\n"
   ]
  },
  {
   "cell_type": "code",
   "execution_count": null,
   "id": "5f81d610",
   "metadata": {},
   "outputs": [],
   "source": [
    "#3 easy so skipped"
   ]
  },
  {
   "cell_type": "code",
   "execution_count": null,
   "id": "f4364826",
   "metadata": {},
   "outputs": [
    {
     "name": "stdout",
     "output_type": "stream",
     "text": [
      "50\n",
      "deposit sucessfull\n",
      "60\n",
      "60\n",
      "error: You dont have enough money \n",
      "withdraw sucessfull\n",
      "50\n"
     ]
    }
   ],
   "source": [
    "class BankAccount():\n",
    "     def __init__(self,account_number,balance):\n",
    "          self.__account_number=account_number\n",
    "          self.__balance=balance\n",
    "\n",
    "     def deposit(self,amount):\n",
    "          self.__balance +=amount\n",
    "          print(\"deposit sucessfull\")\n",
    "          self.check_balance()\n",
    "\n",
    "     \n",
    "     def withdraw(self,amount):\n",
    "          if(amount>self.__balance):\n",
    "               print(\"error: You dont have enough money \")\n",
    "               return\n",
    "          self.__balance -= amount\n",
    "          print(\"withdraw sucessfull\")\n",
    "          self.check_balance()\n",
    "\n",
    "     def check_balance(self):\n",
    "          print(self.__balance)\n",
    "\n",
    "myaccount=BankAccount(111,50)\n",
    "\n",
    "myaccount.check_balance()\n",
    "\n",
    "myaccount.deposit(10)\n",
    "\n",
    "myaccount.check_balance()\n",
    "\n",
    "myaccount.withdraw(1000)\n",
    "\n",
    "myaccount.withdraw(10)\n"
   ]
  },
  {
   "cell_type": "code",
   "execution_count": null,
   "id": "734207ba",
   "metadata": {},
   "outputs": [],
   "source": []
  },
  {
   "cell_type": "code",
   "execution_count": null,
   "id": "c06ce9b5",
   "metadata": {},
   "outputs": [],
   "source": []
  }
 ],
 "metadata": {
  "kernelspec": {
   "display_name": "my_env",
   "language": "python",
   "name": "python3"
  },
  "language_info": {
   "codemirror_mode": {
    "name": "ipython",
    "version": 3
   },
   "file_extension": ".py",
   "mimetype": "text/x-python",
   "name": "python",
   "nbconvert_exporter": "python",
   "pygments_lexer": "ipython3",
   "version": "3.8.6"
  }
 },
 "nbformat": 4,
 "nbformat_minor": 5
}
