{
 "cells": [
  {
   "cell_type": "code",
   "execution_count": 3,
   "id": "d8fdc9f1",
   "metadata": {},
   "outputs": [],
   "source": [
    "import numpy as np"
   ]
  },
  {
   "cell_type": "markdown",
   "id": "a8f65407",
   "metadata": {},
   "source": [
    "##data creation"
   ]
  },
  {
   "cell_type": "markdown",
   "id": "10e91538",
   "metadata": {},
   "source": [
    "```python\n",
    "np.array()\n",
    "np.zeros()\n",
    "np.ones()\n",
    "np.full()\n",
    "np.empty()\n",
    "np.eye()\n",
    "np.identity()\n",
    "np.arange()\n",
    "np.linspace()\n",
    "np.logspace()\n",
    "np.meshgrid()\n",
    "np.mgrid\n",
    "np.ogrid\n",
    "np.random.rand()\n",
    "np.random.randn()\n",
    "np.random.randint()\n",
    "np.random.random()\n",
    "np.random.seed()\n",
    "```\n"
   ]
  },
  {
   "cell_type": "markdown",
   "id": "a7adf2b9",
   "metadata": {},
   "source": [
    "### array manipulation"
   ]
  },
  {
   "cell_type": "markdown",
   "id": "50cb7082",
   "metadata": {},
   "source": [
    "```\n",
    "np.reshape()\n",
    "np.ravel()\n",
    "np.flatten()\n",
    "np.transpose()\n",
    "np.swapaxes()\n",
    "np.rollaxis()\n",
    "np.moveaxis()\n",
    "np.expand_dims()\n",
    "np.squeeze()\n",
    "np.concatenate()\n",
    "np.stack()\n",
    "np.column_stack()\n",
    "np.row_stack()\n",
    "np.split()\n",
    "np.array_split()\n",
    "np.hsplit()\n",
    "np.vsplit()\n",
    "np.dsplit()\n",
    "np.append()\n",
    "np.insert()\n",
    "np.delete()\n",
    "\n",
    "\n",
    "```"
   ]
  },
  {
   "cell_type": "markdown",
   "id": "bd5149be",
   "metadata": {},
   "source": [
    "### math operaton\n",
    "\n",
    "```\n",
    "np.add()\n",
    "np.subtract()\n",
    "np.multiply()\n",
    "np.divide()\n",
    "np.floor_divide()\n",
    "np.power()\n",
    "np.mod()\n",
    "np.fmod()\n",
    "np.remainder()\n",
    "np.abs()\n",
    "np.absolute()\n",
    "np.round()\n",
    "np.ceil()\n",
    "np.floor()\n",
    "np.trunc()\n",
    "np.exp()\n",
    "np.expm1()\n",
    "np.log()\n",
    "np.log10()\n",
    "np.log2()\n",
    "np.log1p()\n",
    "np.sqrt()\n",
    "np.square()\n",
    "np.cbrt()\n",
    "np.sign()\n",
    "np.clip()\n",
    "np.sum()\n",
    "np.mean()\n",
    "np.std()\n",
    "np.var()\n",
    "np.min()\n",
    "np.max()\n",
    "np.ptp()\n",
    "np.cumsum()\n",
    "np.cumprod()\n",
    "np.diff()\n",
    "\n",
    "```"
   ]
  },
  {
   "cell_type": "markdown",
   "id": "c64bef63",
   "metadata": {},
   "source": [
    "### linalg\n",
    "\n",
    "```\n",
    "np.dot()\n",
    "np.vdot()\n",
    "np.inner()\n",
    "np.outer()\n",
    "np.matmul()\n",
    "np.tensordot()\n",
    "np.linalg.inv()\n",
    "np.linalg.det()\n",
    "np.linalg.matrix_rank()\n",
    "np.linalg.eig()\n",
    "np.linalg.eigh()\n",
    "np.linalg.eigvals()\n",
    "np.linalg.solve()\n",
    "np.linalg.norm()\n",
    "np.linalg.qr()\n",
    "np.linalg.svd()\n",
    "np.linalg.cholesky()\n",
    "\n",
    "```"
   ]
  },
  {
   "cell_type": "markdown",
   "id": "e9caacc2",
   "metadata": {},
   "source": [
    "### indexing\n",
    "\n",
    "```\n",
    "np.argmax()\n",
    "np.argmin()\n",
    "np.argsort()\n",
    "np.lexsort()\n",
    "np.sort()\n",
    "np.msort()\n",
    "np.searchsorted()\n",
    "np.nonzero()\n",
    "np.where()\n",
    "np.extract()\n",
    "\n",
    "```"
   ]
  },
  {
   "cell_type": "markdown",
   "id": "4ef68bdf",
   "metadata": {},
   "source": [
    "### logic comparison\n",
    "\n",
    "```\n",
    "np.all()\n",
    "np.any()\n",
    "np.isin()\n",
    "np.equal()\n",
    "np.not_equal()\n",
    "np.greater()\n",
    "np.greater_equal()\n",
    "np.less()\n",
    "np.less_equal()\n",
    "np.logical_and()\n",
    "np.logical_or()\n",
    "np.logical_xor()\n",
    "np.logical_not()\n",
    "\n",
    "```"
   ]
  },
  {
   "cell_type": "markdown",
   "id": "a14461c2",
   "metadata": {},
   "source": [
    "### other\n",
    "\n",
    "```\n",
    "np.copy()\n",
    "np.view()\n",
    "np.unique()\n",
    "np.sort()\n",
    "np.tile()\n",
    "np.repeat()\n",
    "np.set_printoptions()\n",
    "np.get_printoptions()\n",
    "np.save()\n",
    "np.savez()\n",
    "np.load()\n",
    "np.fromfunction()\n",
    "np.fromiter()\n",
    "np.frombuffer()\n",
    "np.fromfile()\n",
    "\n",
    "```"
   ]
  },
  {
   "cell_type": "code",
   "execution_count": 12,
   "id": "6f207e16",
   "metadata": {},
   "outputs": [],
   "source": [
    "\n",
    "arr1=np.array([1,2,3,4,5,6])"
   ]
  },
  {
   "cell_type": "code",
   "execution_count": 13,
   "id": "d21d668d",
   "metadata": {},
   "outputs": [
    {
     "data": {
      "text/plain": [
       "array([[1, 2, 3],\n",
       "       [4, 5, 6]])"
      ]
     },
     "execution_count": 13,
     "metadata": {},
     "output_type": "execute_result"
    }
   ],
   "source": [
    "arr1.reshape(2,3)\n"
   ]
  },
  {
   "cell_type": "code",
   "execution_count": 14,
   "metadata": {},
   "outputs": [],
   "source": [
    "arr1=np.array([[1,2,3],[4,5,6],[7,8,9]])\n"
   ]
  },
  {
   "cell_type": "code",
   "execution_count": 19,
   "id": "caebe1a2",
   "metadata": {},
   "outputs": [
    {
     "name": "stdout",
     "output_type": "stream",
     "text": [
      "1\n",
      "6\n",
      "1\n"
     ]
    }
   ],
   "source": [
    "\n",
    "print(arr1[0][0])\n",
    "print(arr1[1][2])\n",
    "print(arr1[0,0])"
   ]
  },
  {
   "cell_type": "code",
   "execution_count": null,
   "metadata": {},
   "outputs": [],
   "source": []
  }
 ],
 "metadata": {
  "kernelspec": {
   "display_name": "my_env",
   "language": "python",
   "name": "python3"
  },
  "language_info": {
   "codemirror_mode": {
    "name": "ipython",
    "version": 3
   },
   "file_extension": ".py",
   "mimetype": "text/x-python",
   "name": "python",
   "nbconvert_exporter": "python",
   "pygments_lexer": "ipython3",
   "version": "3.8.6"
  }
 },
 "nbformat": 4,
 "nbformat_minor": 5
}
