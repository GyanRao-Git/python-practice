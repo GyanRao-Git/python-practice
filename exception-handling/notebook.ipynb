{
 "cells": [
  {
   "cell_type": "markdown",
   "id": "ea62dde5",
   "metadata": {},
   "source": [
    "| Exception           | Description                  |\n",
    "| ------------------- | ---------------------------- |\n",
    "| `ZeroDivisionError` | Division by zero             |\n",
    "| `TypeError`         | Wrong type of operand        |\n",
    "| `ValueError`        | Right type, wrong value      |\n",
    "| `IndexError`        | Index out of range           |\n",
    "| `KeyError`          | Key not found in dictionary  |\n",
    "| `FileNotFoundError` | File does not exist          |\n",
    "| `ImportError`       | Failed to import a module    |\n",
    "| `AttributeError`    | Object has no such attribute |\n",
    "\n"
   ]
  },
  {
   "cell_type": "markdown",
   "id": "1d8d1d1a",
   "metadata": {},
   "source": [
    "# 🛑 Exceptions in Python\n",
    "\n",
    "- Errors during runtime are called **exceptions**.\n",
    "- Use `try` / `except` to handle them and avoid crashes.\n",
    "- Optional blocks:\n",
    "  - `else`: runs if no error\n",
    "  - `finally`: always runs (e.g., for cleanup)\n",
    "- Common exceptions: `ZeroDivisionError`, `ValueError`, `TypeError`\n",
    "- Use `raise` to trigger exceptions manually.\n"
   ]
  },
  {
   "cell_type": "code",
   "execution_count": 3,
   "id": "4ca15a36",
   "metadata": {},
   "outputs": [
    {
     "name": "stdout",
     "output_type": "stream",
     "text": [
      "file doesnt exist [Errno 2] No such file or directory: 'heheh.txt'\n"
     ]
    }
   ],
   "source": [
    "try:\n",
    "     file=open(\"heheh.txt\",\"r\")\n",
    "     val=file.read()\n",
    "except FileNotFoundError as e1:\n",
    "     print(\"file doesnt exist\",e1)\n",
    "except Exception as e:\n",
    "     print(e)\n",
    "else:\n",
    "     print(val)\n",
    "finally:\n",
    "     if 'file' in locals() and not file.closed:\n",
    "          file.close()"
   ]
  },
  {
   "cell_type": "markdown",
   "id": "4b6009fd",
   "metadata": {},
   "source": []
  }
 ],
 "metadata": {
  "kernelspec": {
   "display_name": "my_env",
   "language": "python",
   "name": "python3"
  },
  "language_info": {
   "codemirror_mode": {
    "name": "ipython",
    "version": 3
   },
   "file_extension": ".py",
   "mimetype": "text/x-python",
   "name": "python",
   "nbconvert_exporter": "python",
   "pygments_lexer": "ipython3",
   "version": "3.8.6"
  }
 },
 "nbformat": 4,
 "nbformat_minor": 5
}
